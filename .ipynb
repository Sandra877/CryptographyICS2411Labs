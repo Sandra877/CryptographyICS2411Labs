{
  "nbformat": 4,
  "nbformat_minor": 0,
  "metadata": {
    "colab": {
      "provenance": [],
      "authorship_tag": "ABX9TyMZz9ihwdTlsN5lhT0GqUkJ",
      "include_colab_link": true
    },
    "kernelspec": {
      "name": "python3",
      "display_name": "Python 3"
    },
    "language_info": {
      "name": "python"
    }
  },
  "cells": [
    {
      "cell_type": "markdown",
      "metadata": {
        "id": "view-in-github",
        "colab_type": "text"
      },
      "source": [
        "<a href=\"https://colab.research.google.com/github/Sandra877/CryptographyICS2411Labs/blob/main/.ipynb\" target=\"_parent\"><img src=\"https://colab.research.google.com/assets/colab-badge.svg\" alt=\"Open In Colab\"/></a>"
      ]
    },
    {
      "cell_type": "code",
      "source": [
        "def hex_to_bytes(hex_str):\n",
        "    return bytes.fromhex(hex_str)\n",
        "\n",
        "def xor_bytes(a, b):\n",
        "    return bytes(x ^ y for x, y in zip(a, b))\n",
        "\n",
        "# All 10 ciphertexts plus target\n",
        "ciphertexts = [\n",
        "    \"315c4eeaa8b5f8aaf9174145bf43e1784b8fa00dc71d885a804e5ee9fa40b16349c146fb778cdf2d3aff021dfff5b403b510d0d0455468aeb98622b137dae857553ccd8883a7bc37520e06e515d22c954eba5025b8cc57ee59418ce7dc6bc41556bdb36bbca3e8774301fbcaa3b83b220809560987815f65286764703de0f3d524400a19b159610b11ef3e\",\n",
        "    \"234c02ecbbfbafa3ed18510abd11fa724fcda2018a1a8342cf064bbde548b12b07df44ba7191d9606ef4081ffde5ad46a5069d9f7f543bedb9c861bf29c7e205132eda9382b0bc2c5c4b45f919cf3a9f1cb74151f6d551f4480c82b2cb24cc5b028aa76eb7b4ab24171ab3cdadb8356f\",\n",
        "    \"32510ba9a7b2bba9b8005d43a304b5714cc0bb0c8a34884dd91304b8ad40b62b07df44ba6e9d8a2368e51d04e0e7b207b70b9b8261112bacb6c866a232dfe257527dc29398f5f3251a0d47e503c66e935de81230b59b7afb5f41afa8d661cb\",\n",
        "    \"32510ba9aab2a8a4fd06414fb517b5605cc0aa0dc91a8908c2064ba8ad5ea06a029056f47a8ad3306ef5021eafe1ac01a81197847a5c68a1b78769a37bc8f4575432c198ccb4ef63590256e305cd3a9544ee4160ead45aef520489e7da7d835402bca670bda8eb775200b8dabbba246b130f040d8ec6447e2c767f3d30ed81ea2e4c1404e1315a1010e7229be6636aaa\",\n",
        "    \"3f561ba9adb4b6ebec54424ba317b564418fac0dd35f8c08d31a1fe9e24fe56808c213f17c81d9607cee021dafe1e001b21ade877a5e68bea88d61b93ac5ee0d562e8e9582f5ef375f0a4ae20ed86e935de81230b59b73fb4302cd95d770c65b40aaa065f2a5e33a5a0bb5dcaba43722130f042f8ec85b7c2070\",\n",
        "    \"32510bfbacfbb9befd54415da243e1695ecabd58c519cd4bd2061bbde24eb76a19d84aba34d8de287be84d07e7e9a30ee714979c7e1123a8bd9822a33ecaf512472e8e8f8db3f9635c1949e640c621854eba0d79eccf52ff111284b4cc61d11902aebc66f2b2e436434eacc0aba938220b084800c2ca4e693522643573b2c4ce35050b0cf774201f0fe52ac9f26d71b6cf61a711cc229f77ace7aa88a2f19983122b11be87a59c355d25f8e4\",\n",
        "    \"32510bfbacfbb9befd54415da243e1695ecabd58c519cd4bd90f1fa6ea5ba47b01c909ba7696cf606ef40c04afe1ac0aa8148dd066592ded9f8774b529c7ea125d298e8883f5e9305f4b44f915cb2bd05af51373fd9b4af511039fa2d96f83414aaaf261bda2e97b170fb5cce2a53e675c154c0d9681596934777e2275b381ce2e40582afe67650b13e72287ff2270abcf73bb028932836fbdecfecee0a3b894473c1bbeb6b4913a536ce4f9b13f1efff71ea313c8661dd9a4ce\",\n",
        "    \"315c4eeaa8b5f8bffd11155ea506b56041c6a00c8a08854dd21a4bbde54ce56801d943ba708b8a3574f40c00fff9e00fa1439fd0654327a3bfc860b92f89ee04132ecb9298f5fd2d5e4b45e40ecc3b9d59e9417df7c95bba410e9aa2ca24c5474da2f276baa3ac325918b2daada43d6712150441c2e04f6565517f317da9d3\",\n",
        "    \"271946f9bbb2aeadec111841a81abc300ecaa01bd8069d5cc91005e9fe4aad6e04d513e96d99de2569bc5e50eeeca709b50a8a987f4264edb6896fb537d0a716132ddc938fb0f836480e06ed0fcd6e9759f40462f9cf57f4564186a2c1778f1543efa270bda5e933421cbe88a4a52222190f471e9bd15f652b653b7071aec59a2705081ffe72651d08f822c9ed6d76e48b63ab15d0208573a7eef027\",\n",
        "    \"466d06ece998b7a2fb1d464fed2ced7641ddaa3cc31c9941cf110abbf409ed39598005b3399ccfafb61d0315fca0a314be138a9f32503bedac8067f03adbf3575c3b8edc9ba7f537530541ab0f9f3cd04ff50d66f1d559ba520e89a2cb2a83\"\n",
        "]\n",
        "\n",
        "target = \"32510ba9babebbbefd001547a810e67149caee11d945cd7fc81a05e9f85aac650e9052ba6a8cd8257bf14d13e6f0a803b54fde9e77472dbff89d71b57bddef121336cb85ccb8f3315f4b52e301d16e9f52f904\"\n",
        "\n",
        "# Convert all to bytes\n",
        "ciphertext_bytes = [hex_to_bytes(c) for c in ciphertexts]\n",
        "target_bytes = hex_to_bytes(target)\n",
        "\n",
        "def score_candidate(byte):\n",
        "    return 1 if (byte >= 65 and byte <= 90) or (byte >= 97 and byte <= 122) or byte == 32 else 0\n",
        "\n",
        "def decrypt():\n",
        "    keystream = [0] * len(target_bytes)\n",
        "    scores = [[0] * 256 for _ in range(len(target_bytes))]\n",
        "\n",
        "    # Score all possible key bytes at each position\n",
        "    for pos in range(len(target_bytes)):\n",
        "        for c1_idx in range(len(ciphertext_bytes)):\n",
        "            if pos >= len(ciphertext_bytes[c1_idx]):\n",
        "                continue\n",
        "            for c2_idx in range(c1_idx + 1, len(ciphertext_bytes)):\n",
        "                if pos >= len(ciphertext_bytes[c2_idx]):\n",
        "                    continue\n",
        "                xored = ciphertext_bytes[c1_idx][pos] ^ ciphertext_bytes[c2_idx][pos]\n",
        "                if xored in range(65, 91) or xored in range(97, 123):  # Letter xor letter\n",
        "                    space_key1 = ciphertext_bytes[c1_idx][pos] ^ 32\n",
        "                    space_key2 = ciphertext_bytes[c2_idx][pos] ^ 32\n",
        "                    scores[pos][space_key1] += 1\n",
        "                    scores[pos][space_key2] += 1\n",
        "\n",
        "    # Find most likely key bytes\n",
        "    message = bytearray(len(target_bytes))\n",
        "    for i in range(len(target_bytes)):\n",
        "        best_score = 0\n",
        "        best_key = 0\n",
        "        for k in range(256):\n",
        "            if scores[i][k] > best_score:\n",
        "                best_score = scores[i][k]\n",
        "                best_key = k\n",
        "        keystream[i] = best_key\n",
        "        message[i] = target_bytes[i] ^ best_key\n",
        "\n",
        "    return bytes(message)\n",
        "\n",
        "# Decrypt and print result\n",
        "decrypted = decrypt()\n",
        "print(\"\\nDecrypted message (showing printable characters):\")\n",
        "result = ''\n",
        "for b in decrypted:\n",
        "    if 32 <= b <= 126:  # printable ASCII\n",
        "        result += chr(b)\n",
        "    else:\n",
        "        result += '.'\n",
        "print(result)\n",
        "\n",
        "# Try to improve readability by showing common English words\n",
        "def find_english_words(text):\n",
        "    common_words = ['the', 'be', 'to', 'of', 'and', 'in', 'that', 'have', 'it', 'for']\n",
        "    lower_text = text.lower()\n",
        "    found = []\n",
        "    for word in common_words:\n",
        "        if word in lower_text:\n",
        "            found.append(word)\n",
        "    return found\n",
        "\n",
        "print(\"\\nIdentified English words:\", find_english_words(result))\n",
        "\n",
        "# Print character distribution to help identify patterns\n",
        "print(\"\\nCharacter distribution in decrypted text:\")\n",
        "char_count = {}\n",
        "for b in decrypted:\n",
        "    if 32 <= b <= 126:\n",
        "        char_count[chr(b)] = char_count.get(chr(b), 0) + 1\n",
        "for char, count in sorted(char_count.items()):\n",
        "    if count > 1:\n",
        "        print(f\"'{char}': {count}\")\n"
      ],
      "metadata": {
        "id": "6BnnNNWH-dio",
        "outputId": "3ac9e45c-ee74-41db-d454-5fc668012c39",
        "colab": {
          "base_uri": "https://localhost:8080/"
        }
      },
      "execution_count": null,
      "outputs": [
        {
          "output_type": "stream",
          "name": "stdout",
          "text": [
            "\n",
            "Decrypted message (showing printable characters):\n",
            "The secuet message.is: Whtn using a ~tream cipher, never.use the key more than once\n",
            "\n",
            "Identified English words: ['the', 'in']\n",
            "\n",
            "Character distribution in decrypted text:\n",
            "' ': 13\n",
            "'a': 4\n",
            "'c': 3\n",
            "'e': 14\n",
            "'g': 2\n",
            "'h': 5\n",
            "'i': 3\n",
            "'m': 3\n",
            "'n': 5\n",
            "'o': 2\n",
            "'r': 4\n",
            "'s': 6\n",
            "'t': 5\n",
            "'u': 3\n"
          ]
        }
      ]
    }
  ]
}